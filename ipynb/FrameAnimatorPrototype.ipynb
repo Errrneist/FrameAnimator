{
 "cells": [
  {
   "cell_type": "markdown",
   "metadata": {
    "collapsed": true,
    "pycharm": {
     "name": "#%% md\n"
    }
   },
   "source": [
    "# Frame Animator\n",
    "* Basically, a simple script to do something so easy but Autodesk did not do.\n",
    "* Input: Images in the ../input folder, in png format, rendered using Arnold in Maya.\n",
    "* Output: A video in ../output folder.\n",
    "* Credit: \n",
    "    * [1] [Python+OpenCV Write pictures/video frames into Video](https://blog.csdn.net/lql0716/article/details/53412252)\n",
    "    * [2] [How to elegantly write a videowriter](https://www.learnopencv.com/read-write-and-display-a-video-using-opencv-cpp-python/)\n",
    "    * [3] [How to format numbers](https://stackoverflow.com/questions/3813735/in-python-how-to-specify-a-format-when-converting-int-to-string)"
   ]
  },
  {
   "cell_type": "code",
   "source": [
    "import cv2\n",
    "\n",
    "fps = 24\n",
    "num_images = 65\n",
    "width = 1280\n",
    "height = 720\n",
    "digits = 4\n",
    "project_title = 'JumpMotion_1'\n",
    "\n",
    "videoWriter = cv2.VideoWriter('../output/output.avi',\n",
    "                              cv2.VideoWriter_fourcc('M','J','P','G'), \n",
    "                              fps, \n",
    "                              (width, height))  # Credit: [2]\n"
   ],
   "metadata": {
    "collapsed": false,
    "pycharm": {
     "name": "#%% \n",
     "is_executing": false
    }
   },
   "execution_count": 6,
   "outputs": []
  },
  {
   "cell_type": "code",
   "execution_count": 7,
   "outputs": [],
   "source": [
    "for i in range(1,num_images):\n",
    "    image_number = str(i).zfill(digits)  # Credit: [3]\n",
    "    img12 = cv2.imread('../input/'+project_title+'_'+image_number+'.png')\n",
    "    videoWriter.write(img12)\n",
    "videoWriter.release()"
   ],
   "metadata": {
    "collapsed": false,
    "pycharm": {
     "name": "#%%\n",
     "is_executing": false
    }
   }
  },
  {
   "cell_type": "code",
   "execution_count": null,
   "outputs": [],
   "source": [
    "\n"
   ],
   "metadata": {
    "collapsed": false,
    "pycharm": {
     "name": "#%%\n"
    }
   }
  }
 ],
 "metadata": {
  "kernelspec": {
   "display_name": "Python 3",
   "language": "python",
   "name": "python3"
  },
  "language_info": {
   "codemirror_mode": {
    "name": "ipython",
    "version": 2
   },
   "file_extension": ".py",
   "mimetype": "text/x-python",
   "name": "python",
   "nbconvert_exporter": "python",
   "pygments_lexer": "ipython2",
   "version": "2.7.6"
  },
  "pycharm": {
   "stem_cell": {
    "cell_type": "raw",
    "source": [],
    "metadata": {
     "collapsed": false
    }
   }
  }
 },
 "nbformat": 4,
 "nbformat_minor": 0
}