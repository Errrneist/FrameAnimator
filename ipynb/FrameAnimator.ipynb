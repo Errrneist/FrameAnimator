{
 "cells": [
  {
   "cell_type": "markdown",
   "metadata": {
    "collapsed": true,
    "pycharm": {
     "name": "#%% md\n"
    }
   },
   "source": [
    "# Frame Animator\n",
    "* Basically, a simple script to do something so easy but Autodesk did not do.\n",
    "* Input: Images in the ../input folder, in png format, rendered using Arnold in Maya.\n",
    "* Output: A video in ../output folder.\n",
    "* Credit: \n",
    "    * [1] [Python+OpenCV Write pictures/video frames into Video](https://blog.csdn.net/lql0716/article/details/53412252)\n",
    "    * [2] [How to elegantly write a videowriter](https://www.learnopencv.com/read-write-and-display-a-video-using-opencv-cpp-python/)\n",
    "    * [3] [How to format numbers](https://stackoverflow.com/questions/3813735/in-python-how-to-specify-a-format-when-converting-int-to-string)"
   ]
  },
  {
   "cell_type": "code",
   "source": [
    "import cv2\n",
    "\n",
    "# Credit: [1]\n",
    "\n",
    "print(\"Please enter the framerate of your image (Default 24)\")\n",
    "fps = input()\n",
    "if fps == \"\":\n",
    "    fps = 24\n",
    "else:\n",
    "    fps = int(fps)\n",
    "print(\"The framerate is set to \" + str(fps))\n",
    "    \n",
    "print(\"Please enter the number of images you want to compile (NO DEFAULT)\")\n",
    "num_images = int(input())\n",
    "if num_images == 0:\n",
    "    raise ValueError('Number of images cannot be 0.')\n",
    "print(\"The number of images you wished to compile is \" + num_images)\n",
    "\n",
    "print(\"Please enter the width of the frame. \")\n",
    "width = int(input())\n",
    "if width == 0:\n",
    "    raise ValueError('Width cannot be 0.')\n",
    "print(\"The width is \" + width)\n",
    "\n",
    "print(\"Please enter the height of the frame. \")\n",
    "height = int(input())\n",
    "if height == 0:\n",
    "    raise ValueError('Hight cannot be 0.')\n",
    "print(\"The height is \" + height)\n",
    "\n",
    "print(\"Please enter the format digits of your image (Default 4)\")\n",
    "digits = input()\n",
    "if digits == \"\":\n",
    "    digits = 4\n",
    "else:\n",
    "    digits = int(digits)\n",
    "print(\"The format digits is \" + digits)\n",
    "\n",
    "print(\"Please enter the leading title of your image (NO DEFAULT)\")\n",
    "project_title = input()\n",
    "if project_title == \"\":\n",
    "    raise ValueError('Project title cannot be empty.')\n",
    "print(\"The leading title you entered is \" + project_title)\n",
    "\n",
    "videoWriter = cv2.VideoWriter('../output/output.avi',\n",
    "                              cv2.VideoWriter_fourcc('M','J','P','G'), \n",
    "                              fps, \n",
    "                              (width, height))  # Credit: [2]\n",
    "print(\"videoWriter created successfully.\")"
   ],
   "metadata": {
    "collapsed": false,
    "pycharm": {
     "name": "#%% \n",
     "is_executing": false
    }
   },
   "execution_count": 11,
   "outputs": [
    {
     "name": "stdout",
     "text": [
      "Please enter the framerate of your image (Default 24)\n",
      "The framerate is set to 24\nPlease enter the number of images you want to compile (NO DEFAULT)\n"
     ],
     "output_type": "stream"
    },
    {
     "traceback": [
      "\u001b[1;31m---------------------------------------------------------------------------\u001b[0m",
      "\u001b[1;31mValueError\u001b[0m                                Traceback (most recent call last)",
      "\u001b[1;32m<ipython-input-11-316287604c9f>\u001b[0m in \u001b[0;36m<module>\u001b[1;34m\u001b[0m\n\u001b[0;32m     12\u001b[0m \u001b[1;33m\u001b[0m\u001b[0m\n\u001b[0;32m     13\u001b[0m \u001b[0mprint\u001b[0m\u001b[1;33m(\u001b[0m\u001b[1;34m\"Please enter the number of images you want to compile (NO DEFAULT)\"\u001b[0m\u001b[1;33m)\u001b[0m\u001b[1;33m\u001b[0m\u001b[1;33m\u001b[0m\u001b[0m\n\u001b[1;32m---> 14\u001b[1;33m \u001b[0mnum_images\u001b[0m \u001b[1;33m=\u001b[0m \u001b[0mint\u001b[0m\u001b[1;33m(\u001b[0m\u001b[0minput\u001b[0m\u001b[1;33m(\u001b[0m\u001b[1;33m)\u001b[0m\u001b[1;33m)\u001b[0m\u001b[1;33m\u001b[0m\u001b[1;33m\u001b[0m\u001b[0m\n\u001b[0m\u001b[0;32m     15\u001b[0m \u001b[1;32mif\u001b[0m \u001b[0mnum_images\u001b[0m \u001b[1;33m==\u001b[0m \u001b[1;36m0\u001b[0m\u001b[1;33m:\u001b[0m\u001b[1;33m\u001b[0m\u001b[1;33m\u001b[0m\u001b[0m\n\u001b[0;32m     16\u001b[0m     \u001b[1;32mraise\u001b[0m \u001b[0mValueError\u001b[0m\u001b[1;33m(\u001b[0m\u001b[1;34m'Ugh I told you do not just hit enter!!'\u001b[0m\u001b[1;33m)\u001b[0m\u001b[1;33m\u001b[0m\u001b[1;33m\u001b[0m\u001b[0m\n",
      "\u001b[1;31mValueError\u001b[0m: invalid literal for int() with base 10: ''"
     ],
     "ename": "ValueError",
     "evalue": "invalid literal for int() with base 10: ''",
     "output_type": "error"
    }
   ]
  },
  {
   "cell_type": "code",
   "execution_count": 7,
   "outputs": [],
   "source": [
    "for i in range(1,num_images):\n",
    "    image_number = str(i).zfill(digits)  # Credit: [3]\n",
    "    img12 = cv2.imread('../input/'+project_title+'_'+image_number+'.png')\n",
    "    videoWriter.write(img12)\n",
    "videoWriter.release()"
   ],
   "metadata": {
    "collapsed": false,
    "pycharm": {
     "name": "#%%\n",
     "is_executing": false
    }
   }
  },
  {
   "cell_type": "code",
   "execution_count": null,
   "outputs": [],
   "source": [
    "\"\"\"\n",
    "# Working Code\n",
    "\n",
    "import cv2\n",
    "\n",
    "# Credit: [1]\n",
    "\n",
    "fps = 24\n",
    "num_images = 65\n",
    "width = 1280\n",
    "height = 720\n",
    "digits = 4\n",
    "project_title = 'JumpMotion_1'\n",
    "\n",
    "videoWriter = cv2.VideoWriter('../output/output.avi',\n",
    "                              cv2.VideoWriter_fourcc('M','J','P','G'), \n",
    "                              fps, \n",
    "                              (width, height))  # Credit: [2]\n",
    "\"\"\"\n",
    "\n"
   ],
   "metadata": {
    "collapsed": false,
    "pycharm": {
     "name": "#%%\n"
    }
   }
  },
  {
   "cell_type": "code",
   "execution_count": null,
   "outputs": [],
   "source": [
    "\n"
   ],
   "metadata": {
    "collapsed": false,
    "pycharm": {
     "name": "#%%\n"
    }
   }
  }
 ],
 "metadata": {
  "kernelspec": {
   "display_name": "Python 3",
   "language": "python",
   "name": "python3"
  },
  "language_info": {
   "codemirror_mode": {
    "name": "ipython",
    "version": 2
   },
   "file_extension": ".py",
   "mimetype": "text/x-python",
   "name": "python",
   "nbconvert_exporter": "python",
   "pygments_lexer": "ipython2",
   "version": "2.7.6"
  },
  "pycharm": {
   "stem_cell": {
    "cell_type": "raw",
    "source": [],
    "metadata": {
     "collapsed": false
    }
   }
  }
 },
 "nbformat": 4,
 "nbformat_minor": 0
}