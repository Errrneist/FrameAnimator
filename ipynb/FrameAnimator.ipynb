{
 "cells": [
  {
   "cell_type": "markdown",
   "metadata": {
    "collapsed": true,
    "pycharm": {
     "name": "#%% md\n"
    }
   },
   "source": [
    "# Frame Animator\n",
    "### Hongjun Wu\n",
    "#### October 29, 2019\n",
    "* Basically, a simple script to do something so easy but Autodesk did not do.\n",
    "* Input: Images in the ../input folder, in png format, rendered using Arnold in Maya.\n",
    "* Output: A video in ../output folder.\n",
    "* Credit: \n",
    "    * [1] [Python+OpenCV Write pictures/video frames into Video](https://blog.csdn.net/lql0716/article/details/53412252)\n",
    "    * [2] [How to elegantly write a videowriter](https://www.learnopencv.com/read-write-and-display-a-video-using-opencv-cpp-python/)\n",
    "    * [3] [How to format numbers](https://stackoverflow.com/questions/3813735/in-python-how-to-specify-a-format-when-converting-int-to-string)"
   ]
  },
  {
   "cell_type": "code",
   "execution_count": null,
   "metadata": {},
   "outputs": [
    {
     "evalue": "Error: Activating Python 3.6.9 64-bit ('base': conda) to run Jupyter failed with Error: Command failed: C:/Users/hongj/Anaconda3/Scripts/activate && conda activate Anaconda3 && echo 'e8b39361-0157-4923-80e1-22d70d46dee6' && python c:/Users/hongj/.vscode/extensions/ms-python.python-2019.10.44104/pythonFiles/printEnvVariables.py\nCould not find conda environment: Anaconda3\r\nYou can list all discoverable environments with `conda info --envs`.\r\n\r\n.",
     "output_type": "error"
    }
   ],
   "source": [
    "import cv2\n",
    "\n",
    "# Credit: [1]\n",
    "\n",
    "fps = input(\"Please enter the framerate of your image (Default 24)\")\n",
    "if fps == \"\":\n",
    "    fps = 24\n",
    "else:\n",
    "    fps = int(fps, 10)\n",
    "print(\"The framerate is set to \" + str(fps))\n",
    "    "
   ]
  },
  {
   "cell_type": "code",
   "execution_count": 35,
   "metadata": {
    "collapsed": false,
    "pycharm": {
     "is_executing": false,
     "name": "#%% \n"
    }
   },
   "outputs": [
    {
     "name": "stdout",
     "output_type": "stream",
     "text": [
      "The number of images you wished to compile is 65\n"
     ]
    }
   ],
   "source": [
    "num_images = int(input(\"Please enter the number of images you want to compile. (EX: 65)\"), 10)\n",
    "if num_images == 0:\n",
    "    raise ValueError('Number of images cannot be 0.')\n",
    "print(\"The number of images you wished to compile is \" + str(num_images))"
   ]
  },
  {
   "cell_type": "code",
   "execution_count": 36,
   "metadata": {
    "collapsed": false,
    "pycharm": {
     "is_executing": false,
     "name": "#%% \n"
    }
   },
   "outputs": [
    {
     "name": "stdout",
     "output_type": "stream",
     "text": [
      "The width is 1280\n"
     ]
    }
   ],
   "source": [
    "width = int(input(\"Please enter the width of the frame. (EX: 1280)\"), 10) \n",
    "if width == 0:\n",
    "    raise ValueError('Width cannot be 0.')\n",
    "print(\"The width is \" + str(width))"
   ]
  },
  {
   "cell_type": "code",
   "execution_count": 37,
   "metadata": {
    "collapsed": false,
    "pycharm": {
     "is_executing": false,
     "name": "#%% \n"
    }
   },
   "outputs": [
    {
     "name": "stdout",
     "output_type": "stream",
     "text": [
      "The height is 720\n"
     ]
    }
   ],
   "source": [
    "height = int(input(\"Please enter the height of the frame. (EX: 720)\"), 10)\n",
    "if height == 0:\n",
    "    raise ValueError('Hight cannot be 0.')\n",
    "print(\"The height is \" + str(height))"
   ]
  },
  {
   "cell_type": "code",
   "execution_count": 38,
   "metadata": {
    "collapsed": false,
    "pycharm": {
     "is_executing": false,
     "name": "#%% \n"
    }
   },
   "outputs": [
    {
     "name": "stdout",
     "output_type": "stream",
     "text": [
      "\n",
      "The format digits is 4\n"
     ]
    }
   ],
   "source": [
    "print()\n",
    "digits = input(\"Please enter the format digits of your image (Default 4)\")\n",
    "if digits == \"\":\n",
    "    digits = 4\n",
    "else:\n",
    "    digits = int(digits, 10)\n",
    "print(\"The format digits is \" + str(digits))"
   ]
  },
  {
   "cell_type": "code",
   "execution_count": 39,
   "metadata": {
    "collapsed": false,
    "pycharm": {
     "is_executing": false,
     "name": "#%% \n"
    }
   },
   "outputs": [
    {
     "name": "stdout",
     "output_type": "stream",
     "text": [
      "The leading title you entered is JumpMotion_1\n"
     ]
    }
   ],
   "source": [
    "project_title = input(\"Please enter the leading title of your image (EX: JumpMotion_1)\")\n",
    "if project_title == \"\":\n",
    "    raise ValueError('Project title cannot be empty.')\n",
    "print(\"The leading title you entered is \" + project_title)"
   ]
  },
  {
   "cell_type": "code",
   "execution_count": 40,
   "metadata": {
    "collapsed": false,
    "pycharm": {
     "is_executing": false,
     "name": "#%% \n"
    }
   },
   "outputs": [
    {
     "name": "stdout",
     "output_type": "stream",
     "text": [
      "videoWriter created successfully.\n"
     ]
    }
   ],
   "source": [
    "videoWriter = cv2.VideoWriter('../output/output.mp4',\n",
    "                              cv2.VideoWriter_fourcc(*'MP4V'), \n",
    "                              fps, \n",
    "                              (width, height))  # Credit: [2]\n",
    "print(\"videoWriter created successfully.\")"
   ]
  },
  {
   "cell_type": "code",
   "execution_count": 41,
   "metadata": {
    "collapsed": false,
    "pycharm": {
     "is_executing": false,
     "name": "#%%\n"
    }
   },
   "outputs": [
    {
     "name": "stdout",
     "output_type": "stream",
     "text": [
      "Output Created :)\n"
     ]
    }
   ],
   "source": [
    "for i in range(1,num_images):\n",
    "    image_number = str(i).zfill(digits)  # Credit: [3]\n",
    "    img12 = cv2.imread('../input/'+project_title+'_'+image_number+'.png')\n",
    "    videoWriter.write(img12)\n",
    "videoWriter.release()\n",
    "print(\"Output Created :)\")\n",
    "\n"
   ]
  },
  {
   "cell_type": "code",
   "execution_count": null,
   "metadata": {
    "collapsed": false,
    "pycharm": {
     "name": "#%%\n"
    }
   },
   "outputs": [],
   "source": [
    "\n"
   ]
  }
 ],
 "metadata": {
  "kernelspec": {
   "display_name": "Python 3",
   "language": "python",
   "name": "python3"
  },
  "language_info": {
   "codemirror_mode": {
    "name": "ipython",
    "version": 2
   },
   "file_extension": ".py",
   "mimetype": "text/x-python",
   "name": "python",
   "nbconvert_exporter": "python",
   "pygments_lexer": "ipython2",
   "version": "2.7.6"
  },
  "pycharm": {
   "stem_cell": {
    "cell_type": "raw",
    "source": [],
    "metadata": {
     "collapsed": false
    }
   }
  }
 },
 "nbformat": 4,
 "nbformat_minor": 0
}